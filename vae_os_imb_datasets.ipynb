{
  "cells": [
    {
      "cell_type": "markdown",
      "source": [
        "# Dealing with imbalanced datasets, combining oversampling with VAE and undersampling to improve model recognition over all classes.  "
      ],
      "metadata": {
        "id": "qLO_siFYEPSg"
      }
    },
    {
      "cell_type": "code",
      "source": [
        "!pip install catboost"
      ],
      "metadata": {
        "id": "1MsCtTA8GgkS"
      },
      "execution_count": null,
      "outputs": []
    },
    {
      "cell_type": "markdown",
      "metadata": {
        "id": "IOzC3QPArH_F"
      },
      "source": [
        "Import packages, classifiers and etc."
      ]
    },
    {
      "cell_type": "code",
      "execution_count": 2,
      "metadata": {
        "_cell_guid": "b1076dfc-b9ad-4769-8c92-a6c4dae69d19",
        "_uuid": "8f2839f25d086af736a60e9eeb907d3b93b6e0e5",
        "id": "GDNB_c5RrH_I"
      },
      "outputs": [],
      "source": [
        "import pandas as pd\n",
        "import numpy as np\n",
        "\n",
        "from sklearn.preprocessing import StandardScaler\n",
        "from sklearn.model_selection import train_test_split\n",
        "\n",
        "from catboost import CatBoostClassifier\n",
        "from lightgbm import LGBMClassifier\n",
        "from xgboost import XGBClassifier\n",
        "from sklearn.ensemble import BaggingClassifier, RandomForestClassifier\n",
        "\n",
        "from sklearn.metrics import classification_report\n",
        "from sklearn.metrics import confusion_matrix\n",
        "\n",
        "from collections import Counter"
      ]
    },
    {
      "cell_type": "markdown",
      "source": [
        "Import VAEOversampler."
      ],
      "metadata": {
        "id": "7qxBXk4fPiJx"
      }
    },
    {
      "cell_type": "code",
      "source": [
        "from VAEOversampler import VAEOversampler"
      ],
      "metadata": {
        "id": "DqyRUyWlvryO"
      },
      "execution_count": 3,
      "outputs": []
    },
    {
      "cell_type": "markdown",
      "source": [
        "## Loading data  \n",
        "You can load some dataset of Imbalanced Learn list (https://imbalanced-learn.org/stable/datasets/index.html) or use your own data.  \n"
      ],
      "metadata": {
        "id": "8UEMO2hTPztj"
      }
    },
    {
      "cell_type": "code",
      "source": [
        "from imblearn.datasets import fetch_datasets\n",
        "\n",
        "dset_name = 'satimage'\n",
        "dset = fetch_datasets()[dset_name]\n",
        "dset.data.shape\n",
        "\n",
        "print(sorted(Counter(dset.target).items()))"
      ],
      "metadata": {
        "colab": {
          "base_uri": "https://localhost:8080/"
        },
        "id": "Xnh_x70FwVCi",
        "outputId": "14e354bf-54b4-44d2-d61b-eb594f8ba249"
      },
      "execution_count": 4,
      "outputs": [
        {
          "output_type": "stream",
          "name": "stdout",
          "text": [
            "[(-1, 5809), (1, 626)]\n"
          ]
        }
      ]
    },
    {
      "cell_type": "code",
      "source": [
        "dset.data"
      ],
      "metadata": {
        "colab": {
          "base_uri": "https://localhost:8080/"
        },
        "id": "v_SUvgVSByCD",
        "outputId": "4c5c4fd2-7c8c-45ab-9bd4-1aee3b26c893"
      },
      "execution_count": 5,
      "outputs": [
        {
          "output_type": "execute_result",
          "data": {
            "text/plain": [
              "array([[ 92., 115., 120., ..., 107., 113.,  87.],\n",
              "       [ 84., 102., 106., ...,  99., 104.,  79.],\n",
              "       [ 84., 102., 102., ...,  99., 104.,  79.],\n",
              "       ...,\n",
              "       [ 56.,  68.,  91., ...,  83.,  92.,  74.],\n",
              "       [ 56.,  68.,  87., ...,  83.,  92.,  70.],\n",
              "       [ 60.,  71.,  91., ...,  79., 108.,  92.]])"
            ]
          },
          "metadata": {},
          "execution_count": 5
        }
      ]
    },
    {
      "cell_type": "code",
      "source": [
        "X = pd.DataFrame(dset.data)\n",
        "y = dset.target"
      ],
      "metadata": {
        "id": "SO2eKOKs7rGJ"
      },
      "execution_count": 6,
      "outputs": []
    },
    {
      "cell_type": "code",
      "source": [
        "y[y == -1] = 0\n",
        "X['Class'] = y"
      ],
      "metadata": {
        "id": "Tb09lFMxPS2J"
      },
      "execution_count": 7,
      "outputs": []
    },
    {
      "cell_type": "markdown",
      "source": [
        "We split data into train and test partitions."
      ],
      "metadata": {
        "id": "hpLA_GmKSJwN"
      }
    },
    {
      "cell_type": "code",
      "source": [
        "dtrain, dtest = train_test_split(X, test_size=0.2, random_state=42, stratify=X.Class)"
      ],
      "metadata": {
        "id": "ZS-Dd0R9GbBY"
      },
      "execution_count": 8,
      "outputs": []
    },
    {
      "cell_type": "markdown",
      "metadata": {
        "id": "Em7Um0N4rH_S"
      },
      "source": [
        "This is a simple function to undersample freely.  "
      ]
    },
    {
      "cell_type": "code",
      "source": [
        "# RUS\n",
        "\n",
        "def RUS(X_res, y_res, frac=1, minority_class_id=1, random_state=42):\n",
        "    X_res = pd.DataFrame(X_res)\n",
        "    X_res['Class'] = y_res  \n",
        "    \n",
        "    X_neg = X_res[y_res != minority_class_id].sample(frac=frac, random_state=random_state)\n",
        "    X_pos = X_res[y_res == minority_class_id].sample(frac=1)\n",
        "    \n",
        "    X_rus = pd.concat([X_neg, X_pos], ignore_index=True)\n",
        "\n",
        "    X_eq = X_rus.drop('Class', axis=1)\n",
        "    y_eq = X_rus['Class']\n",
        "\n",
        "    return X_eq, y_eq"
      ],
      "metadata": {
        "id": "1cdWcXE3Ofok"
      },
      "execution_count": 9,
      "outputs": []
    },
    {
      "cell_type": "code",
      "source": [
        "def train_val(X, y, Xt, yt, random_state=42):\n",
        "    classifiers = {\n",
        "        \"CatBoostClassifier\": CatBoostClassifier(verbose=False, random_seed=random_state),\n",
        "        \"LGBMClassifier\": LGBMClassifier(random_state=random_state),\n",
        "        \"XGBClassifier\": XGBClassifier(random_state=random_state),\n",
        "        \"BaggingClassifier\": BaggingClassifier(random_state=random_state),\n",
        "        \"RandomForestClassifier\": RandomForestClassifier(random_state=random_state),\n",
        "    }\n",
        "    scores = []\n",
        "    predictions = []\n",
        "    for key, classifier in classifiers.items():\n",
        "        print('_' * 50)\n",
        "        name = key\n",
        "        classifier.fit(X, y)\n",
        "        print(\"Classifier: \", name)\n",
        "        y_pred = classifier.predict(Xt)\n",
        "        cm = confusion_matrix(yt, y_pred)\n",
        "        print(cm)\n",
        "        print('')\n",
        "        #print(classification_report(yt, y_pred))\n",
        "        predictions.append(y_pred)\n",
        "        tn = cm[0,0]\n",
        "        fn = cm[1,0]\n",
        "        tp = cm[1,1]\n",
        "        fp = cm[0,1]\n",
        "        tnr = tn / (tn + fp)\n",
        "        tpr = tp / (tp + fn)\n",
        "        scores.append(tnr * tpr)\n",
        "        print('TNR:', round(tnr, 5))\n",
        "        print('TPR:', round(tpr, 5))\n",
        "        print('TNRxTPR:', round(tnr * tpr, 5))\n",
        "        print('G-mean:', round(np.sqrt(tnr * tpr), 5))\n",
        "\n",
        "    print('_' * 50)\n",
        "    print('Ensemble predictions (majority voting):')\n",
        "    predictions = np.sum(predictions, axis=0)\n",
        "    predictions[predictions < 3] = 0\n",
        "    predictions[predictions >= 3] = 1\n",
        "\n",
        "    cm = confusion_matrix(yt, predictions)\n",
        "    print(cm)\n",
        "    tn = cm[0,0]\n",
        "    fn = cm[1,0]\n",
        "    tp = cm[1,1]\n",
        "    fp = cm[0,1]\n",
        "    tnr = tn / (tn + fp)\n",
        "    tpr = tp / (tp + fn)\n",
        "    print('')\n",
        "    print('TNR:', round(tnr, 5))\n",
        "    print('TPR:', round(tpr, 5))\n",
        "    print('TNRxTPR:', round(tnr * tpr, 5))\n",
        "    print('G-mean:', round(np.sqrt(tnr * tpr), 5))\n",
        "    "
      ],
      "metadata": {
        "id": "1Ep1nUMCES98"
      },
      "execution_count": 10,
      "outputs": []
    },
    {
      "cell_type": "code",
      "source": [
        "X = dtrain.drop('Class', axis=1)\n",
        "y = dtrain['Class']\n",
        "Xt = dtest.drop('Class', axis=1)\n",
        "yt = dtest['Class']"
      ],
      "metadata": {
        "id": "MKne_VB_BWcv"
      },
      "execution_count": 11,
      "outputs": []
    },
    {
      "cell_type": "markdown",
      "source": [
        "## Ratio 1:1  \n",
        "Let's see classifiers scores when dataset is balanced.  \n"
      ],
      "metadata": {
        "id": "u53eaidjVlpk"
      }
    },
    {
      "cell_type": "code",
      "source": [
        "vae_sampler = VAEOversampler(epochs=50,\n",
        "                              intermediate_dim=512,\n",
        "                              batch_size=64,\n",
        "                              rescale=True,\n",
        "                              random_state=42,\n",
        "                              verbose=False)\n",
        "Xres, yres = vae_sampler.fit_resample(X, y, validation_data=[Xt, yt])\n",
        "\n",
        "print('Resampled dataset shape %s' % Counter(yres))\n",
        "print('Ratio->  1 :', round(Counter(yres)[1]/Counter(yres)[0], 1))"
      ],
      "metadata": {
        "colab": {
          "base_uri": "https://localhost:8080/"
        },
        "outputId": "5a8b8af3-2038-42a5-f7df-acde836d141f",
        "id": "B065rYa3wO-o"
      },
      "execution_count": 12,
      "outputs": [
        {
          "output_type": "stream",
          "name": "stdout",
          "text": [
            "130/130 [==============================] - 0s 1ms/step\n",
            "Resampled dataset shape Counter({1.0: 4647, 0.0: 4647})\n",
            "Ratio->  1 : 1.0\n"
          ]
        }
      ]
    },
    {
      "cell_type": "code",
      "execution_count": 13,
      "metadata": {
        "colab": {
          "base_uri": "https://localhost:8080/"
        },
        "outputId": "980488ca-0b5f-479a-9762-7746c06bae8b",
        "id": "6BNffQSbwO-t"
      },
      "outputs": [
        {
          "output_type": "stream",
          "name": "stdout",
          "text": [
            "__________________________________________________\n",
            "Classifier:  CatBoostClassifier\n",
            "[[1142   20]\n",
            " [  46   79]]\n",
            "\n",
            "TNR: 0.98279\n",
            "TPR: 0.632\n",
            "TNRxTPR: 0.62112\n",
            "G-mean: 0.78811\n",
            "__________________________________________________\n",
            "Classifier:  LGBMClassifier\n",
            "[[1135   27]\n",
            " [  46   79]]\n",
            "\n",
            "TNR: 0.97676\n",
            "TPR: 0.632\n",
            "TNRxTPR: 0.61731\n",
            "G-mean: 0.78569\n",
            "__________________________________________________\n",
            "Classifier:  XGBClassifier\n",
            "[[1138   24]\n",
            " [  42   83]]\n",
            "\n",
            "TNR: 0.97935\n",
            "TPR: 0.664\n",
            "TNRxTPR: 0.65029\n",
            "G-mean: 0.8064\n",
            "__________________________________________________\n",
            "Classifier:  BaggingClassifier\n",
            "[[1141   21]\n",
            " [  63   62]]\n",
            "\n",
            "TNR: 0.98193\n",
            "TPR: 0.496\n",
            "TNRxTPR: 0.48704\n",
            "G-mean: 0.69788\n",
            "__________________________________________________\n",
            "Classifier:  RandomForestClassifier\n",
            "[[1149   13]\n",
            " [  58   67]]\n",
            "\n",
            "TNR: 0.98881\n",
            "TPR: 0.536\n",
            "TNRxTPR: 0.53\n",
            "G-mean: 0.72801\n",
            "__________________________________________________\n",
            "Ensemble predictions (majority voting):\n",
            "[[1143   19]\n",
            " [  50   75]]\n",
            "\n",
            "TNR: 0.98365\n",
            "TPR: 0.6\n",
            "TNRxTPR: 0.59019\n",
            "G-mean: 0.76824\n"
          ]
        }
      ],
      "source": [
        "train_val(Xres, yres, Xt, yt)"
      ]
    },
    {
      "cell_type": "markdown",
      "source": [
        "## Under/Oversampling combination  \n",
        "Now we can tuning the number of instances for each class to optimize metric.  \n"
      ],
      "metadata": {
        "id": "w9swp8C1wO-w"
      }
    },
    {
      "cell_type": "code",
      "source": [
        "Xres, yres = vae_sampler.resample(X, y, sampling_strategy=.6)"
      ],
      "metadata": {
        "colab": {
          "base_uri": "https://localhost:8080/"
        },
        "outputId": "000b56ed-9cea-49a0-bdba-3bac45fb300e",
        "id": "T6benPDnCzym"
      },
      "execution_count": 14,
      "outputs": [
        {
          "output_type": "stream",
          "name": "stdout",
          "text": [
            "78/78 [==============================] - 0s 2ms/step\n"
          ]
        }
      ]
    },
    {
      "cell_type": "code",
      "source": [
        "# RUS\n",
        "\n",
        "X_eq, y_eq = RUS(Xres, yres, frac=.15)\n",
        "\n",
        "print('Resampled dataset shape %s' % Counter(y_eq))\n",
        "print('Ratio->  1 :', round(Counter(y_eq)[1]/Counter(y_eq)[0], 1))"
      ],
      "metadata": {
        "colab": {
          "base_uri": "https://localhost:8080/"
        },
        "outputId": "699d3c72-9e78-4c5e-8fef-144c758fee1b",
        "id": "7a1QqxB6Czyx"
      },
      "execution_count": 15,
      "outputs": [
        {
          "output_type": "stream",
          "name": "stdout",
          "text": [
            "Resampled dataset shape Counter({1.0: 2988, 0.0: 697})\n",
            "Ratio->  1 : 4.3\n"
          ]
        }
      ]
    },
    {
      "cell_type": "code",
      "execution_count": 16,
      "metadata": {
        "colab": {
          "base_uri": "https://localhost:8080/"
        },
        "outputId": "7e8e7e2b-f0d6-4a36-a230-c58cef556737",
        "id": "oAv7STUxCzy0"
      },
      "outputs": [
        {
          "output_type": "stream",
          "name": "stdout",
          "text": [
            "__________________________________________________\n",
            "Classifier:  CatBoostClassifier\n",
            "[[1023  139]\n",
            " [  16  109]]\n",
            "\n",
            "TNR: 0.88038\n",
            "TPR: 0.872\n",
            "TNRxTPR: 0.76769\n",
            "G-mean: 0.87618\n",
            "__________________________________________________\n",
            "Classifier:  LGBMClassifier\n",
            "[[1013  149]\n",
            " [  11  114]]\n",
            "\n",
            "TNR: 0.87177\n",
            "TPR: 0.912\n",
            "TNRxTPR: 0.79506\n",
            "G-mean: 0.89166\n",
            "__________________________________________________\n",
            "Classifier:  XGBClassifier\n",
            "[[1028  134]\n",
            " [   8  117]]\n",
            "\n",
            "TNR: 0.88468\n",
            "TPR: 0.936\n",
            "TNRxTPR: 0.82806\n",
            "G-mean: 0.90998\n",
            "__________________________________________________\n",
            "Classifier:  BaggingClassifier\n",
            "[[1032  130]\n",
            " [  24  101]]\n",
            "\n",
            "TNR: 0.88812\n",
            "TPR: 0.808\n",
            "TNRxTPR: 0.7176\n",
            "G-mean: 0.84712\n",
            "__________________________________________________\n",
            "Classifier:  RandomForestClassifier\n",
            "[[1026  136]\n",
            " [  16  109]]\n",
            "\n",
            "TNR: 0.88296\n",
            "TPR: 0.872\n",
            "TNRxTPR: 0.76994\n",
            "G-mean: 0.87746\n",
            "__________________________________________________\n",
            "Ensemble predictions (majority voting):\n",
            "[[1035  127]\n",
            " [  14  111]]\n",
            "\n",
            "TNR: 0.89071\n",
            "TPR: 0.888\n",
            "TNRxTPR: 0.79095\n",
            "G-mean: 0.88935\n"
          ]
        }
      ],
      "source": [
        "train_val(X_eq, y_eq, Xt, yt)"
      ]
    },
    {
      "cell_type": "markdown",
      "source": [
        "XGBClassifier  \n",
        "  - G-mean: **0.90998**  \n"
      ],
      "metadata": {
        "id": "FJwegKpOWwE0"
      }
    },
    {
      "cell_type": "markdown",
      "source": [
        "https://imbalanced-learn.org/stable/auto_examples/ensemble/plot_comparison_ensemble_classifier.html#sphx-glr-auto-examples-ensemble-plot-comparison-ensemble-classifier-py  \n",
        "\n",
        "In this web we can compare our results on 'satimage' dataset with some balanced versions of classical algorithms like: **BalancedBaggingClassifier**, **BalancedRandomForestClassifier**.  \n"
      ],
      "metadata": {
        "id": "Dww7zO8e6f9u"
      }
    },
    {
      "cell_type": "markdown",
      "source": [
        "https://imbalanced-learn.org/stable/combine.html  \n",
        "Here we find two versions of SMOTE that combines over- and under-sampling: **SMOTEENN** and **SMOTETomek**."
      ],
      "metadata": {
        "id": "DDN2-yn2Nwex"
      }
    },
    {
      "cell_type": "markdown",
      "source": [
        "## References  \n",
        "\n",
        "  - Classification with Imbalanced Datasets:  \n",
        "    https://sci2s.ugr.es/imbalanced  \n",
        "  - Computer Vision:  Models, Learning, and Inference (Simon J.D. Prince):  \n",
        "    http://www.computervisionmodels.com/  \n",
        "  - Oversampling with VAEs:  \n",
        "    https://towardsdatascience.com/oversampling-with-vaes-e410887fe51  \n"
      ],
      "metadata": {
        "id": "RydFSMjOoD87"
      }
    }
  ],
  "metadata": {
    "kernelspec": {
      "display_name": "Python 3",
      "language": "python",
      "name": "python3"
    },
    "language_info": {
      "codemirror_mode": {
        "name": "ipython",
        "version": 3
      },
      "file_extension": ".py",
      "mimetype": "text/x-python",
      "name": "python",
      "nbconvert_exporter": "python",
      "pygments_lexer": "ipython3",
      "version": "3.8.8"
    },
    "colab": {
      "provenance": []
    },
    "gpuClass": "standard"
  },
  "nbformat": 4,
  "nbformat_minor": 0
}